{
 "cells": [
  {
   "cell_type": "code",
   "execution_count": 1,
   "metadata": {},
   "outputs": [
    {
     "name": "stdout",
     "output_type": "stream",
     "text": [
      "THE SUM IS-   10\n",
      "THE PRODUCT IS-   24\n",
      "THE CONCATENATED STRING IS-   1234\n"
     ]
    }
   ],
   "source": [
    "'''\n",
    "Task 1- 1.1\n",
    "\n",
    "Write a Python Program to implement your own myreduce() function which works exactly like\n",
    "Python's built-in function reduce()\n",
    "\n",
    "'''\n",
    "\n",
    "\n",
    "\n",
    "def myreduce(list):\n",
    "\n",
    "    sum=0\n",
    "    concat=\"\"\n",
    "    product=1\n",
    "\n",
    "    for a in list:\n",
    "        sum=sum+a\n",
    "        product=product*a\n",
    "        concat=concat+str(a)\n",
    "\n",
    "    print(\"THE SUM IS-  \", sum)\n",
    "    print(\"THE PRODUCT IS-  \", product)\n",
    "    print(\"THE CONCATENATED STRING IS-  \", concat)\n",
    "\n",
    "myreduce([1,2,3,4])"
   ]
  },
  {
   "cell_type": "code",
   "execution_count": 1,
   "metadata": {},
   "outputs": [
    {
     "name": "stdout",
     "output_type": "stream",
     "text": [
      "VOWELS ARE- \n",
      "['o', 'a']\n"
     ]
    }
   ],
   "source": [
    "'''\n",
    "Task 1- 1.2\n",
    "\n",
    "Write a Python program to implement your own myfilter() function which works exactly like\n",
    "Python's built-in function filter()\n",
    "\n",
    "'''\n",
    "\n",
    "\n",
    "def myfilter(list):\n",
    "    list_new=[a for a in list if a in ['a','e','i','o','u']]\n",
    "    print(\"VOWELS ARE- \")\n",
    "    print(list_new)\n",
    "myfilter(['r','o','h','a','n'])      \n",
    "    "
   ]
  },
  {
   "cell_type": "code",
   "execution_count": 3,
   "metadata": {},
   "outputs": [
    {
     "name": "stdout",
     "output_type": "stream",
     "text": [
      "['A', 'C', 'A', 'D', 'G', 'I', 'L', 'D']\n"
     ]
    }
   ],
   "source": [
    "'''\n",
    "Task 1- 2\n",
    "Implement List comprehensions to produce the following lists\n",
    "['A', 'C', 'A', 'D', 'G', 'I', ’L’, ‘ D’]\n",
    "\n",
    "'''\n",
    "\n",
    "\n",
    "k=[a for a in \"ACADGILD\"] \n",
    "print(k)"
   ]
  },
  {
   "cell_type": "code",
   "execution_count": 4,
   "metadata": {},
   "outputs": [
    {
     "name": "stdout",
     "output_type": "stream",
     "text": [
      "['x', 'y', 'z', 'xx', 'yy', 'zz', 'xxx', 'yyy', 'zzz', 'xxxx', 'yyyy', 'zzzz']\n"
     ]
    }
   ],
   "source": [
    "'''\n",
    "Task 1- 2\n",
    "Implement List comprehensions to produce the following lists\n",
    "['x', 'y', 'z', 'xx', 'yy', 'zz', 'xx', 'yy', 'zz', 'xxxx', 'yyyy', 'zzzz']\n",
    "\n",
    "'''\n",
    "\n",
    "\n",
    "list1=['x','y','z']\n",
    "list2=[a*i for i in range(1,5) for a in list1]\n",
    "print(list2)\n"
   ]
  },
  {
   "cell_type": "code",
   "execution_count": 5,
   "metadata": {},
   "outputs": [
    {
     "name": "stdout",
     "output_type": "stream",
     "text": [
      "['x', 'xx', 'xxx', 'xxxx', 'y', 'yy', 'yyy', 'yyyy', 'z', 'zz', 'zzz', 'zzzz']\n"
     ]
    }
   ],
   "source": [
    "'''\n",
    "Task 1- 2\n",
    "Implement List comprehensions to produce the following lists\n",
    "['x', 'xx', 'xxx', 'xxxx', 'y', 'yy', 'yyy', 'yyyy', 'z', 'zz', 'zzz', 'zzzz']\n",
    "\n",
    "'''\n",
    "\n",
    "\n",
    "list1=['x','y','z']\n",
    "list2=[a*i for a in list1 for i in range(1,5) ]\n",
    "print(list2)"
   ]
  },
  {
   "cell_type": "code",
   "execution_count": 6,
   "metadata": {},
   "outputs": [
    {
     "name": "stdout",
     "output_type": "stream",
     "text": [
      "[[2, 3, 4, 5], [3, 4, 5, 6], [4, 5, 6, 7], [5, 6, 7, 8]]\n"
     ]
    }
   ],
   "source": [
    "'''\n",
    "Task 1- 2\n",
    "Implement List comprehensions to produce the following lists\n",
    "[[2, 3, 4, 5], [3, 4, 5, 6], [4, 5, 6, 7], [5, 6, 7, 8]]\n",
    "\n",
    "'''\n",
    "\n",
    "\n",
    "k=[[2+a,3+a,4+a,5+a] for a in range(4)] \n",
    "print(k)"
   ]
  },
  {
   "cell_type": "code",
   "execution_count": 7,
   "metadata": {},
   "outputs": [
    {
     "name": "stdout",
     "output_type": "stream",
     "text": [
      "[[2], [3], [4], [3], [4], [5], [4], [5], [6]]\n"
     ]
    }
   ],
   "source": [
    "'''\n",
    "Task 1- 2\n",
    "Implement List comprehensions to produce the following lists\n",
    "[[2], [3], [4], [3], [4], [5], [4], [5], [6]]\n",
    "\n",
    "'''\n",
    "\n",
    "\n",
    "k=[[b+a] for a in range(3) for b in [2,3,4]] \n",
    "print(k)"
   ]
  },
  {
   "cell_type": "code",
   "execution_count": 9,
   "metadata": {},
   "outputs": [
    {
     "name": "stdout",
     "output_type": "stream",
     "text": [
      "[[1, 1], [2, 1], [3, 1], [1, 2], [2, 2], [3, 2], [1, 3], [2, 3], [3, 3]]\n"
     ]
    }
   ],
   "source": [
    "'''\n",
    "Task 1- 2\n",
    "Implement List comprehensions to produce the following lists\n",
    "[(1, 1), (2, 1), (3, 1), (1, 2), (2, 2), (3, 2), (1, 3), (2, 3), (3, 3)]\n",
    "\n",
    "'''\n",
    "\n",
    "\n",
    "k=[[b,a] for a in [1,2,3] for b in [1,2,3]]\n",
    "print(k)"
   ]
  },
  {
   "cell_type": "code",
   "execution_count": 2,
   "metadata": {},
   "outputs": [
    {
     "name": "stdout",
     "output_type": "stream",
     "text": [
      "Enter words please\n",
      "rohan azad works in Ujjivan bank\n",
      "Longest Word is-   Ujjivan   with length   7\n"
     ]
    }
   ],
   "source": [
    "'''\n",
    "Task 1- 3\n",
    "Implement a function longestWord() that takes a list of words and returns the longest one.\n",
    "\n",
    "'''\n",
    "\n",
    "input=input(\"Enter words please\\n\")\n",
    "words=input.split(\" \")\n",
    "length= [len(a) for a in words]\n",
    "\n",
    "for b in words:\n",
    "    if len(b)==max(length):\n",
    "        longestword=b\n",
    "print(\"Longest Word is-  \", longestword, \"  with length  \", max(length))\n"
   ]
  },
  {
   "cell_type": "code",
   "execution_count": 2,
   "metadata": {},
   "outputs": [
    {
     "name": "stdout",
     "output_type": "stream",
     "text": [
      "ENTER FIRST SIDE\n",
      "10\n",
      "ENTER SECOND SIDE\n",
      "20\n",
      "ENTER THIRD SIDE\n",
      "20\n",
      "SEMI PERIMETER IS-   25\n",
      "AREA OF THE TRIANGLE IS-   96\n"
     ]
    }
   ],
   "source": [
    "'''\n",
    "Task 2- 1.1\n",
    "Write a Python Program(with class concepts) to find the area of the triangle using the below\n",
    "formula.\n",
    "area = (s*(s-a)*(s-b)*(s-c)) ** 0.5\n",
    "Function to take the length of the sides of triangle from user should be defined in the parent\n",
    "class and function to calculate the area should be defined in subclass.\n",
    "\n",
    "'''\n",
    "\n",
    "class side:\n",
    "    side1=int(input(\"ENTER FIRST SIDE\\n\"))\n",
    "    side2=int(input(\"ENTER SECOND SIDE\\n\"))\n",
    "    side3=int(input(\"ENTER THIRD SIDE\\n\"))\n",
    "    \n",
    "class area(side):\n",
    "    sp=int((side.side1+side.side2+side.side3)/2)\n",
    "    print(\"SEMI PERIMETER IS-  \", sp)\n",
    "    arot=int((sp*(sp-side.side1)*(sp-side.side2)*(sp-side.side3))**0.5)\n",
    "    \n",
    "obj=area()\n",
    "print(\"AREA OF THE TRIANGLE IS-  \", obj.arot)"
   ]
  },
  {
   "cell_type": "code",
   "execution_count": 2,
   "metadata": {},
   "outputs": [
    {
     "name": "stdout",
     "output_type": "stream",
     "text": [
      "Please enter words \n",
      "rohan azad\n",
      "Please enter the minimum length \n",
      "2\n",
      "\n",
      "Words with length greater than 2 is-\n",
      "['rohan', 'azad']\n"
     ]
    }
   ],
   "source": [
    "'''\n",
    "Task 2- 1.2\n",
    "Write a function filter_long_words() that takes a list of words and an integer n and returns the list\n",
    "of words that are longer than n.\n",
    "\n",
    "'''\n",
    "\n",
    "words=input(\"Please enter words \\n\")\n",
    "num=input(\"Please enter the minimum length \\n\")\n",
    "words=words.split(\" \")\n",
    "words_final=[a for a in words if len(a)>int(num)]\n",
    "print(\"\\nWords with length greater than\",num, \"is-\")\n",
    "print(words_final)\n"
   ]
  },
  {
   "cell_type": "code",
   "execution_count": 4,
   "metadata": {},
   "outputs": [
    {
     "name": "stdout",
     "output_type": "stream",
     "text": [
      "Enter words please \n",
      "rohan azad works in Ujjivan\n",
      "[5, 4, 5, 2, 7]\n"
     ]
    }
   ],
   "source": [
    "'''\n",
    "Task 2- 2.1\n",
    "Write a Python program using function concept that maps list of words into a list of integers\n",
    "representing the lengths of the corresponding words .\n",
    "Hint: If a list [ ab,cde,erty] is passed on to the python function output should come as [2,3,4]\n",
    "Here 2,3 and 4 are the lengths of the words in the list.\n",
    "\n",
    "'''\n",
    "\n",
    "input=input(\"Enter words please \\n\")\n",
    "words=input.split(\" \")\n",
    "length= [len(a) for a in words]\n",
    "print (length)\n"
   ]
  },
  {
   "cell_type": "code",
   "execution_count": 2,
   "metadata": {},
   "outputs": [
    {
     "name": "stdout",
     "output_type": "stream",
     "text": [
      "Enter a letter \n",
      "A\n",
      "VOWEL\n"
     ]
    }
   ],
   "source": [
    "'''\n",
    "Task 2- 2.2\n",
    "Write a Python function which takes a character (i.e. a string of length 1) and returns True if it is\n",
    "a vowel, False otherwise.\n",
    "\n",
    "'''\n",
    "\n",
    "letter=input(\"Enter a letter \\n\")\n",
    "\n",
    "if letter in ['a','e','i','o','u','A','E','I','O','U']:\n",
    "    print(\"VOWEL\")\n",
    "\n",
    "else:\n",
    "    print(\"CONSONANT\")\n"
   ]
  },
  {
   "cell_type": "code",
   "execution_count": null,
   "metadata": {},
   "outputs": [],
   "source": []
  }
 ],
 "metadata": {
  "kernelspec": {
   "display_name": "Python 3",
   "language": "python",
   "name": "python3"
  },
  "language_info": {
   "codemirror_mode": {
    "name": "ipython",
    "version": 3
   },
   "file_extension": ".py",
   "mimetype": "text/x-python",
   "name": "python",
   "nbconvert_exporter": "python",
   "pygments_lexer": "ipython3",
   "version": "3.6.4"
  }
 },
 "nbformat": 4,
 "nbformat_minor": 2
}
